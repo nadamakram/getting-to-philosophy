{
 "cells": [
  {
   "cell_type": "markdown",
   "metadata": {},
   "source": [
    "# Getting to Philosophy\n",
    "Please write a Python script to check the \"Getting to Philosophy\" law.\n",
    "<br>\n",
    "https://en.wikipedia.org/wiki/Wikipedia:Getting_to_Philosophy\n",
    " \n",
    "Clicking on the first link in the main body of a Wikipedia article and repeating the process for subsequent articles would usually lead to the article Philosophy.\n",
    " \n",
    "The program should receive a Wikipedia link as an input, go to another normal link and repeat this process until either Philosophy page is reached, or we are in an article without any outgoing Wikilinks, or stuck in a loop.\n",
    "\n",
    "\n",
    "##### We will use 2 ways in our solution; Scrapy framework and Beautifulsoup"
   ]
  },
  {
   "cell_type": "markdown",
   "metadata": {},
   "source": [
    "## Import libraries"
   ]
  },
  {
   "cell_type": "code",
   "execution_count": 1,
   "metadata": {},
   "outputs": [],
   "source": [
    "from scrapy import Selector\n",
    "import bs4\n",
    "import requests\n",
    "import urllib\n",
    "import time"
   ]
  },
  {
   "cell_type": "code",
   "execution_count": 2,
   "metadata": {},
   "outputs": [],
   "source": [
    "first_url = \"https://en.wikipedia.org/wiki/Special:Random\"\n",
    "target_url = \"https://en.wikipedia.org/wiki/Philosophy\""
   ]
  },
  {
   "cell_type": "markdown",
   "metadata": {},
   "source": [
    "### Using Scrapy"
   ]
  },
  {
   "cell_type": "code",
   "execution_count": 3,
   "metadata": {},
   "outputs": [],
   "source": [
    "def get_link(url):\n",
    "    html = requests.get( url ).content\n",
    "    sel = Selector( text = html )\n",
    "    article_link = None\n",
    "    article_link = sel.xpath('//div[@id=\"mw-content-text\"]//a/@href').extract_first()\n",
    "    #article_link = content_div.xpath('./a/@href')\n",
    "    if not article_link:\n",
    "        return\n",
    "    first_link = urllib.parse.urljoin('https://en.wikipedia.org/', article_link)\n",
    "    return first_link"
   ]
  },
  {
   "cell_type": "markdown",
   "metadata": {},
   "source": [
    "### Conditions\n",
    "We will stop getting a link until:\n",
    "<li> Philosophy page is reached\n",
    "<li> We are in an article without any outgoing Wikilinks\n",
    "<li> Stuck in a loop\n",
    "<br>\n",
    "So, here we achieved that by check_ function and the while loop\n",
    "    "
   ]
  },
  {
   "cell_type": "code",
   "execution_count": 4,
   "metadata": {},
   "outputs": [],
   "source": [
    "def check_(visited, target_url, max_iterations=30):\n",
    "    if visited[-1] == target_url:\n",
    "        print(\"Destination reached!, We are going to Philosophy\")\n",
    "        return False\n",
    "    elif len(visited) > max_iterations: \n",
    "        print(\"Long iterations\")\n",
    "        return False\n",
    "    elif visited[-1] in visited[:-1]:\n",
    "        print(\"Stuck in a loop\")\n",
    "        return False\n",
    "    else:\n",
    "        return True"
   ]
  },
  {
   "cell_type": "code",
   "execution_count": 5,
   "metadata": {},
   "outputs": [
    {
     "name": "stdout",
     "output_type": "stream",
     "text": [
      "https://en.wikipedia.org/wiki/Special:Random\n",
      "https://en.wikipedia.org/wiki/Franklin,_Indiana\n",
      "https://en.wikipedia.org/wiki/Franklin,_Wayne_County,_Indiana\n",
      "https://en.wikipedia.org/wiki/Unincorporated_area\n",
      "https://en.wikipedia.org/wiki/File:Contra_Costa_Centre_sign.jpg\n",
      "https://en.wikipedia.org/#file\n",
      "https://en.wikipedia.org/wiki/Wikipedia\n",
      "https://en.wikipedia.org/wiki/English_Wikipedia\n",
      "https://en.wikipedia.org/wiki/File:Wikipedia-logo-v2-en.svg\n",
      "Stuck in a loop\n"
     ]
    }
   ],
   "source": [
    "visited = [first_url]\n",
    "while(check_(visited, target_url)):\n",
    "    print(visited[-1])\n",
    "    next_url = get_link(visited[-1])\n",
    "    if not next_url:\n",
    "        print(\"We've arrived in an article without any outgoing Wikilinks\")\n",
    "        break\n",
    "    visited.append(next_url)\n",
    "    time.sleep(5)  "
   ]
  },
  {
   "cell_type": "code",
   "execution_count": null,
   "metadata": {},
   "outputs": [],
   "source": []
  },
  {
   "cell_type": "markdown",
   "metadata": {},
   "source": [
    "### Using beautifulsoup"
   ]
  },
  {
   "cell_type": "code",
   "execution_count": 6,
   "metadata": {},
   "outputs": [],
   "source": [
    "def get_link(url):\n",
    "    response = requests.get(url)\n",
    "    content = response.text\n",
    "    html = bs4.BeautifulSoup(content, \"html.parser\")\n",
    "    article_link = None\n",
    "\n",
    "    content_article = html.find(id=\"mw-content-text\").find(class_=\"mw-parser-output\")\n",
    "    for element in content_article.find_all(\"p\", recursive=False):\n",
    "        if element.find(\"a\", recursive=False):\n",
    "            article_link = element.find(\"a\", recursive=False).get('href')\n",
    "            break\n",
    "\n",
    "    if not article_link:\n",
    "        return\n",
    "\n",
    "    return urllib.parse.urljoin('https://en.wikipedia.org/', article_link)"
   ]
  },
  {
   "cell_type": "code",
   "execution_count": 7,
   "metadata": {},
   "outputs": [],
   "source": [
    "def check_(visited, target_url, max_iterations=30):\n",
    "    if visited[-1] == target_url:\n",
    "        print(\"Destination reached!, We are going to Philosophy\")\n",
    "        return False\n",
    "    elif len(visited) > max_iterations: \n",
    "        print(\"Long iterations\")\n",
    "        return False\n",
    "    elif visited[-1] in visited[:-1]:\n",
    "        print(\"Stuck in a loop\")\n",
    "        return False\n",
    "    else:\n",
    "        return True"
   ]
  },
  {
   "cell_type": "code",
   "execution_count": 8,
   "metadata": {},
   "outputs": [
    {
     "name": "stdout",
     "output_type": "stream",
     "text": [
      "https://en.wikipedia.org/wiki/Special:Random\n",
      "https://en.wikipedia.org/wiki/Andrew_Hill_(jazz_musician)\n",
      "https://en.wikipedia.org/wiki/Jazz\n",
      "https://en.wikipedia.org/wiki/Music_genre\n",
      "https://en.wikipedia.org/wiki/Music\n",
      "https://en.wikipedia.org/wiki/The_arts#Music\n",
      "https://en.wikipedia.org/wiki/Creativity\n",
      "https://en.wikipedia.org/wiki/Idea\n",
      "Destination reached!, We are going to Philosophy\n"
     ]
    }
   ],
   "source": [
    "visited = [first_url]\n",
    "while(check_(visited, target_url)):\n",
    "    print(visited[-1])\n",
    "    next_url = get_link(visited[-1])\n",
    "    if not next_url:\n",
    "        print(\"We've arrived in an article without any outgoing Wikilinks\")\n",
    "        break\n",
    "    visited.append(next_url)\n",
    "    time.sleep(5)          \n",
    "        "
   ]
  },
  {
   "cell_type": "code",
   "execution_count": null,
   "metadata": {},
   "outputs": [],
   "source": []
  }
 ],
 "metadata": {
  "kernelspec": {
   "display_name": "Python 3",
   "language": "python",
   "name": "python3"
  },
  "language_info": {
   "codemirror_mode": {
    "name": "ipython",
    "version": 3
   },
   "file_extension": ".py",
   "mimetype": "text/x-python",
   "name": "python",
   "nbconvert_exporter": "python",
   "pygments_lexer": "ipython3",
   "version": "3.6.5"
  }
 },
 "nbformat": 4,
 "nbformat_minor": 4
}
